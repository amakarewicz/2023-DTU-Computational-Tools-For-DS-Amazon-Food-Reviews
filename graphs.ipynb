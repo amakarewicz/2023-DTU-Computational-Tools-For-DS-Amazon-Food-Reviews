{
 "cells": [
  {
   "cell_type": "code",
   "execution_count": 8,
   "metadata": {},
   "outputs": [
    {
     "data": {
      "image/png": "[encoded data removed]",
      "text/plain": [
       "<Figure size 640x480 with 1 Axes>"
      ]
     },
     "metadata": {},
     "output_type": "display_data"
    }
   ],
   "source": [
    "import pandas as pd\n",
    "import networkx as nx\n",
    "import matplotlib.pyplot as plt\n",
    "\n",
    "df1 = pd.read_feather('./data/text_df_1.feather')\n",
    "df2 = pd.read_feather('./data/text_df_2.feather')\n",
    "df3 = pd.read_feather('./data/text_df_3.feather')\n",
    "\n",
    "dfs = []\n",
    "\n",
    "dfs.append(df1)\n",
    "dfs.append(df2)\n",
    "dfs.append(df3)\n",
    "\n",
    "merged_df = pd.concat(dfs, ignore_index=True)\n",
    "\n",
    "G = nx.Graph()\n",
    "\n",
    "# Add nodes with the 'UserId' and 'ProductId' as attributes\n",
    "G.add_nodes_from(merged_df['UserId'], bipartite=0)\n",
    "G.add_nodes_from(merged_df['ProductId'], bipartite=1)\n",
    "\n",
    "# Add edges between 'UserId' and 'ProductId'\n",
    "edges = [(row['UserId'], row['ProductId']) for index, row in merged_df.iterrows()]\n",
    "G.add_edges_from(edges)\n",
    "\n",
    "# Separate nodes by bipartite sets\n",
    "top_nodes = {n for n, d in G.nodes(data=True) if d['bipartite'] == 0}\n",
    "bottom_nodes = set(G) - top_nodes\n",
    "\n",
    "# Draw the bipartite graph\n",
    "# pos = {node: (1, i) for i, node in enumerate(top_nodes)}\n",
    "# pos.update({node: (2, i) for i, node in enumerate(bottom_nodes)})\n",
    "# nx.draw(G, pos, with_labels=True, font_weight='bold', node_color='skyblue', node_size=500, font_size=8)\n",
    "\n",
    "# plt.show()\n"
   ]
  },
  {
   "cell_type": "code",
   "execution_count": 9,
   "metadata": {},
   "outputs": [
    {
     "name": "stdout",
     "output_type": "stream",
     "text": [
      "568454\n"
     ]
    }
   ],
   "source": [
    "print(len(merged_df))"
   ]
  },
  {
   "cell_type": "code",
   "execution_count": 10,
   "metadata": {},
   "outputs": [],
   "source": [
    "G_user_user = nx.Graph()\n",
    "\n",
    "# Create a set of unique product IDs\n",
    "unique_products = set(merged_df['ProductId'])\n",
    "\n",
    "# Iterate over each product and find users who reviewed the same product\n",
    "for product_id in unique_products:\n",
    "    users_reviewed = merged_df.loc[merged_df['ProductId'] == product_id, 'UserId'].tolist()\n",
    "    user_pairs = [(user1, user2) for i, user1 in enumerate(users_reviewed) for j, user2 in enumerate(users_reviewed) if i < j]\n",
    "    G_user_user.add_edges_from(user_pairs)\n",
    "\n",
    "# Draw the user-user graph\n",
    "# nx.draw(G_user_user, with_labels=True, font_weight='bold', node_color='lightcoral', node_size=500, font_size=8)\n",
    "# plt.title('User-User Graph (Same Product)')\n",
    "# plt.show()"
   ]
  },
  {
   "cell_type": "code",
   "execution_count": 11,
   "metadata": {},
   "outputs": [],
   "source": [
    "G_product_product = nx.Graph()\n",
    "\n",
    "# Create a set of unique user IDs\n",
    "unique_users = set(merged_df['UserId'])\n",
    "\n",
    "# Iterate over each user and find products that the user reviewed\n",
    "for user_id in unique_users:\n",
    "    products_reviewed = merged_df.loc[merged_df['UserId'] == user_id, 'ProductId'].tolist()\n",
    "    product_pairs = [(product1, product2) for i, product1 in enumerate(products_reviewed) for j, product2 in enumerate(products_reviewed) if i < j]\n",
    "    G_product_product.add_edges_from(product_pairs)\n",
    "\n",
    "# Draw the product-product graph\n",
    "# nx.draw(G_product_product, with_labels=True, font_weight='bold', node_color='lightgreen', node_size=500, font_size=8)\n",
    "# plt.title('Product-Product Graph (Same User)')\n",
    "# plt.show()"
   ]
  },
  {
   "cell_type": "code",
   "execution_count": 12,
   "metadata": {},
   "outputs": [],
   "source": [
    "# nx.write_gpickle(G, './data/user_product_graph.gpickle')\n",
    "# nx.write_gpickle(G_user_user, './data/user_user_graph.gpickle')\n",
    "# nx.write_gpickle(G_product_product, './data/product_product_graph.gpickle')\n",
    "import pickle\n",
    "\n",
    "with open('./graphs/user_product_graph.pickle', 'wb') as f_up:\n",
    "    pickle.dump(G, f_up, pickle.HIGHEST_PROTOCOL)\n",
    "with open('./graphs/user_user_graph.pickle', 'wb') as f_uu:\n",
    "    pickle.dump(G_user_user, f_uu, pickle.HIGHEST_PROTOCOL)\n",
    "with open('./graphs/product_product_graph.pickle', 'wb') as f_pp:\n",
    "    pickle.dump(G_product_product, f_pp, pickle.HIGHEST_PROTOCOL)"
   ]
  },
  {
   "cell_type": "code",
   "execution_count": null,
   "metadata": {},
   "outputs": [],
   "source": []
  }
 ],
 "metadata": {
  "kernelspec": {
   "display_name": "Python 3",
   "language": "python",
   "name": "python3"
  },
  "language_info": {
   "codemirror_mode": {
    "name": "ipython",
    "version": 3
   },
   "file_extension": ".py",
   "mimetype": "text/x-python",
   "name": "python",
   "nbconvert_exporter": "python",
   "pygments_lexer": "ipython3",
   "version": "3.11.0"
  }
 },
 "nbformat": 4,
 "nbformat_minor": 2
}
