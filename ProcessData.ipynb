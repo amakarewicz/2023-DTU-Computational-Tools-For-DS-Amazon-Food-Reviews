{
 "cells": [
  {
   "cell_type": "code",
   "execution_count": 1,
   "id": "98c73c74-5887-4a37-83e9-ed1e59b85a40",
   "metadata": {},
   "outputs": [],
   "source": [
    "%load_ext autoreload\n",
    "%autoreload 2"
   ]
  },
  {
   "cell_type": "code",
   "execution_count": 2,
   "id": "b09e8c65-737d-4a08-8ff8-7147d8031a1c",
   "metadata": {},
   "outputs": [],
   "source": [
    "import pandas as pd \n",
    "import numpy as np\n",
    "import tqdm"
   ]
  },
  {
   "cell_type": "markdown",
   "id": "4e328a0e-4f83-4079-a3cb-8b35ce5d2453",
   "metadata": {},
   "source": [
    "# Loading Data"
   ]
  },
  {
   "cell_type": "markdown",
   "id": "07b47fe0-457f-400d-92f7-468c9e3b0e85",
   "metadata": {},
   "source": [
    "Data needs to be downloaded and placed in the `data` folder - but it is not necessary as In this notebook I will initially process and partition the data for further ingestion. However, to fully follow the notebook it can be downloaded here: \n",
    "\n",
    "https://www.kaggle.com/datasets/snap/amazon-fine-food-reviews"
   ]
  },
  {
   "cell_type": "code",
   "execution_count": 3,
   "id": "29f3fc35-ee33-4c0b-ac6e-2a76530de8b7",
   "metadata": {},
   "outputs": [
    {
     "name": "stdout",
     "output_type": "stream",
     "text": [
      "archive.zip\t hashes.txt   sample_no_agg.csv     text_df_2.feather\n",
      "copy\t\t Reviews.csv  similarity_dict.json  text_df_3.feather\n",
      "database.sqlite  sample.csv   text_df_1.feather     text_df.feather\n"
     ]
    }
   ],
   "source": [
    "! ls data"
   ]
  },
  {
   "cell_type": "markdown",
   "id": "91f41a72-c1a3-42d2-9819-148f0f066fa3",
   "metadata": {},
   "source": [
    "We are interested in `database.sqlite` I connected with the data source and extracted all needed information "
   ]
  },
  {
   "cell_type": "code",
   "execution_count": 4,
   "id": "0569bd93-3f5f-41f3-a86a-31162f8e2d47",
   "metadata": {},
   "outputs": [],
   "source": [
    "import sqlite3\n",
    "\n",
    "# Create a SQL connection to our SQLite database\n",
    "con = sqlite3.connect(\"data/database.sqlite\")\n",
    "\n",
    "cur = con.cursor()"
   ]
  },
  {
   "cell_type": "code",
   "execution_count": 5,
   "id": "457382a5-8a0d-457a-801d-b5e00f5ff0a9",
   "metadata": {},
   "outputs": [],
   "source": [
    "test_query = \"\"\"\n",
    "SELECT * FROM Reviews\n",
    "LIMIT 100\n",
    "\"\"\"\n",
    "\n",
    "# probably better to get it without text\n",
    "query_without_text = \"\"\"\n",
    "SELECT ProductId, UserId, ProfileName, HelpfulnessNumerator, HelpfulnessDenominator, Score, Time, Summary FROM Reviews\n",
    "\"\"\"\n",
    "\n",
    "query_just_text = \"\"\"\n",
    "SELECT ProductId, UserId, Text FROM Reviews\n",
    "\"\"\"\n"
   ]
  },
  {
   "cell_type": "code",
   "execution_count": 6,
   "id": "5ab2044b-0604-4c01-9a90-acc908182487",
   "metadata": {},
   "outputs": [],
   "source": [
    "df_without_text = pd.read_sql_query(query_without_text, con)"
   ]
  },
  {
   "cell_type": "code",
   "execution_count": 10,
   "id": "2427573a-c2f1-4483-ad19-ed65f9febd5a",
   "metadata": {},
   "outputs": [],
   "source": [
    "df_just_text = pd.read_sql_query(query_just_text, con)"
   ]
  },
  {
   "cell_type": "code",
   "execution_count": 7,
   "id": "cea8ef51-704e-4afd-af27-f6c5e2928f69",
   "metadata": {},
   "outputs": [
    {
     "data": {
      "text/html": [
       "<div>\n",
       "<style scoped>\n",
       "    .dataframe tbody tr th:only-of-type {\n",
       "        vertical-align: middle;\n",
       "    }\n",
       "\n",
       "    .dataframe tbody tr th {\n",
       "        vertical-align: top;\n",
       "    }\n",
       "\n",
       "    .dataframe thead th {\n",
       "        text-align: right;\n",
       "    }\n",
       "</style>\n",
       "<table border=\"1\" class=\"dataframe\">\n",
       "  <thead>\n",
       "    <tr style=\"text-align: right;\">\n",
       "      <th></th>\n",
       "      <th>ProductId</th>\n",
       "      <th>UserId</th>\n",
       "      <th>ProfileName</th>\n",
       "      <th>HelpfulnessNumerator</th>\n",
       "      <th>HelpfulnessDenominator</th>\n",
       "      <th>Score</th>\n",
       "      <th>Time</th>\n",
       "      <th>Summary</th>\n",
       "    </tr>\n",
       "  </thead>\n",
       "  <tbody>\n",
       "    <tr>\n",
       "      <th>0</th>\n",
       "      <td>B001E4KFG0</td>\n",
       "      <td>A3SGXH7AUHU8GW</td>\n",
       "      <td>delmartian</td>\n",
       "      <td>1</td>\n",
       "      <td>1</td>\n",
       "      <td>5</td>\n",
       "      <td>1303862400</td>\n",
       "      <td>Good Quality Dog Food</td>\n",
       "    </tr>\n",
       "    <tr>\n",
       "      <th>1</th>\n",
       "      <td>B00813GRG4</td>\n",
       "      <td>A1D87F6ZCVE5NK</td>\n",
       "      <td>dll pa</td>\n",
       "      <td>0</td>\n",
       "      <td>0</td>\n",
       "      <td>1</td>\n",
       "      <td>1346976000</td>\n",
       "      <td>Not as Advertised</td>\n",
       "    </tr>\n",
       "    <tr>\n",
       "      <th>2</th>\n",
       "      <td>B000LQOCH0</td>\n",
       "      <td>ABXLMWJIXXAIN</td>\n",
       "      <td>Natalia Corres \"Natalia Corres\"</td>\n",
       "      <td>1</td>\n",
       "      <td>1</td>\n",
       "      <td>4</td>\n",
       "      <td>1219017600</td>\n",
       "      <td>\"Delight\" says it all</td>\n",
       "    </tr>\n",
       "    <tr>\n",
       "      <th>3</th>\n",
       "      <td>B000UA0QIQ</td>\n",
       "      <td>A395BORC6FGVXV</td>\n",
       "      <td>Karl</td>\n",
       "      <td>3</td>\n",
       "      <td>3</td>\n",
       "      <td>2</td>\n",
       "      <td>1307923200</td>\n",
       "      <td>Cough Medicine</td>\n",
       "    </tr>\n",
       "    <tr>\n",
       "      <th>4</th>\n",
       "      <td>B006K2ZZ7K</td>\n",
       "      <td>A1UQRSCLF8GW1T</td>\n",
       "      <td>Michael D. Bigham \"M. Wassir\"</td>\n",
       "      <td>0</td>\n",
       "      <td>0</td>\n",
       "      <td>5</td>\n",
       "      <td>1350777600</td>\n",
       "      <td>Great taffy</td>\n",
       "    </tr>\n",
       "  </tbody>\n",
       "</table>\n",
       "</div>"
      ],
      "text/plain": [
       "    ProductId          UserId                      ProfileName  \\\n",
       "0  B001E4KFG0  A3SGXH7AUHU8GW                       delmartian   \n",
       "1  B00813GRG4  A1D87F6ZCVE5NK                           dll pa   \n",
       "2  B000LQOCH0   ABXLMWJIXXAIN  Natalia Corres \"Natalia Corres\"   \n",
       "3  B000UA0QIQ  A395BORC6FGVXV                             Karl   \n",
       "4  B006K2ZZ7K  A1UQRSCLF8GW1T    Michael D. Bigham \"M. Wassir\"   \n",
       "\n",
       "   HelpfulnessNumerator  HelpfulnessDenominator  Score        Time  \\\n",
       "0                     1                       1      5  1303862400   \n",
       "1                     0                       0      1  1346976000   \n",
       "2                     1                       1      4  1219017600   \n",
       "3                     3                       3      2  1307923200   \n",
       "4                     0                       0      5  1350777600   \n",
       "\n",
       "                 Summary  \n",
       "0  Good Quality Dog Food  \n",
       "1      Not as Advertised  \n",
       "2  \"Delight\" says it all  \n",
       "3         Cough Medicine  \n",
       "4            Great taffy  "
      ]
     },
     "execution_count": 7,
     "metadata": {},
     "output_type": "execute_result"
    }
   ],
   "source": [
    "df_without_text.head()"
   ]
  },
  {
   "cell_type": "code",
   "execution_count": 11,
   "id": "816d3a4e-94f2-4941-bf92-6deb54c795fc",
   "metadata": {},
   "outputs": [
    {
     "data": {
      "text/html": [
       "<div>\n",
       "<style scoped>\n",
       "    .dataframe tbody tr th:only-of-type {\n",
       "        vertical-align: middle;\n",
       "    }\n",
       "\n",
       "    .dataframe tbody tr th {\n",
       "        vertical-align: top;\n",
       "    }\n",
       "\n",
       "    .dataframe thead th {\n",
       "        text-align: right;\n",
       "    }\n",
       "</style>\n",
       "<table border=\"1\" class=\"dataframe\">\n",
       "  <thead>\n",
       "    <tr style=\"text-align: right;\">\n",
       "      <th></th>\n",
       "      <th>ProductId</th>\n",
       "      <th>UserId</th>\n",
       "      <th>Text</th>\n",
       "    </tr>\n",
       "  </thead>\n",
       "  <tbody>\n",
       "    <tr>\n",
       "      <th>0</th>\n",
       "      <td>B001E4KFG0</td>\n",
       "      <td>A3SGXH7AUHU8GW</td>\n",
       "      <td>I have bought several of the Vitality canned d...</td>\n",
       "    </tr>\n",
       "    <tr>\n",
       "      <th>1</th>\n",
       "      <td>B00813GRG4</td>\n",
       "      <td>A1D87F6ZCVE5NK</td>\n",
       "      <td>Product arrived labeled as Jumbo Salted Peanut...</td>\n",
       "    </tr>\n",
       "    <tr>\n",
       "      <th>2</th>\n",
       "      <td>B000LQOCH0</td>\n",
       "      <td>ABXLMWJIXXAIN</td>\n",
       "      <td>This is a confection that has been around a fe...</td>\n",
       "    </tr>\n",
       "    <tr>\n",
       "      <th>3</th>\n",
       "      <td>B000UA0QIQ</td>\n",
       "      <td>A395BORC6FGVXV</td>\n",
       "      <td>If you are looking for the secret ingredient i...</td>\n",
       "    </tr>\n",
       "    <tr>\n",
       "      <th>4</th>\n",
       "      <td>B006K2ZZ7K</td>\n",
       "      <td>A1UQRSCLF8GW1T</td>\n",
       "      <td>Great taffy at a great price.  There was a wid...</td>\n",
       "    </tr>\n",
       "  </tbody>\n",
       "</table>\n",
       "</div>"
      ],
      "text/plain": [
       "    ProductId          UserId  \\\n",
       "0  B001E4KFG0  A3SGXH7AUHU8GW   \n",
       "1  B00813GRG4  A1D87F6ZCVE5NK   \n",
       "2  B000LQOCH0   ABXLMWJIXXAIN   \n",
       "3  B000UA0QIQ  A395BORC6FGVXV   \n",
       "4  B006K2ZZ7K  A1UQRSCLF8GW1T   \n",
       "\n",
       "                                                Text  \n",
       "0  I have bought several of the Vitality canned d...  \n",
       "1  Product arrived labeled as Jumbo Salted Peanut...  \n",
       "2  This is a confection that has been around a fe...  \n",
       "3  If you are looking for the secret ingredient i...  \n",
       "4  Great taffy at a great price.  There was a wid...  "
      ]
     },
     "execution_count": 11,
     "metadata": {},
     "output_type": "execute_result"
    }
   ],
   "source": [
    "df_just_text.head()"
   ]
  },
  {
   "cell_type": "code",
   "execution_count": 14,
   "id": "85702697-0587-4504-99fa-ccd5449f2cd5",
   "metadata": {},
   "outputs": [],
   "source": [
    "df = df_just_text.copy()"
   ]
  },
  {
   "cell_type": "code",
   "execution_count": 11,
   "id": "2ea61be1-ea63-48b7-b979-cebfb7a71662",
   "metadata": {},
   "outputs": [],
   "source": [
    "# write dataframes to feather to further upload to github\n",
    "df.iloc[:len(df)//3].to_feather('data/text_df_1.feather')\n",
    "df.iloc[len(df)//3:2*len(df)//3].reset_index(drop=True).to_feather('data/text_df_2.feather')\n",
    "df.iloc[2*len(df)//3:].reset_index(drop=True).to_feather('data/text_df_3.feather')"
   ]
  },
  {
   "cell_type": "code",
   "execution_count": 13,
   "id": "68fc5801-4826-4d88-ad70-dac3d0fbb54a",
   "metadata": {},
   "outputs": [],
   "source": [
    "df_without_text.to_feather('data/no_text_df.feather')"
   ]
  },
  {
   "cell_type": "markdown",
   "id": "dba115f5-b0df-4302-94b4-26fbea2f9559",
   "metadata": {},
   "source": [
    "To obtain the main database.sqlite `df_without_text` has to be merged with concatenated `text_df`'s."
   ]
  },
  {
   "cell_type": "markdown",
   "id": "1dcd0da0-72b5-4412-9de2-a137a4f39c62",
   "metadata": {},
   "source": [
    "# Text data processing"
   ]
  },
  {
   "cell_type": "code",
   "execution_count": 17,
   "id": "4b8b85c2-5153-4a21-b3fc-906edb4cdaac",
   "metadata": {},
   "outputs": [],
   "source": [
    "import spacy\n",
    "import nltk\n",
    "from nltk.corpus import stopwords\n",
    "import re \n",
    "stop_words = set(stopwords.words('english'))\n",
    "nlp = spacy.load('en_core_web_sm')\n",
    "\n",
    "def clean_text(text):\n",
    "    doc = nlp(text)\n",
    "    \n",
    "    # lemmatize, remove stopwords, and convert to lowercase\n",
    "    cleaned_text = ' '.join([token.lemma_.lower() for token in doc if token.text.lower() not in stop_words])\n",
    "    return cleaned_text"
   ]
  },
  {
   "cell_type": "code",
   "execution_count": 14,
   "id": "e4b019f1-f643-4e50-8086-f11b8f71c3af",
   "metadata": {},
   "outputs": [
    {
     "name": "stdout",
     "output_type": "stream",
     "text": [
      "CPU times: user 1h 45min 16s, sys: 2.15 s, total: 1h 45min 18s\n",
      "Wall time: 1h 45min 17s\n"
     ]
    }
   ],
   "source": [
    "%%time\n",
    "df_just_text['Clean_text'] = df_just_text['Text'].apply(clean_text)"
   ]
  },
  {
   "cell_type": "markdown",
   "id": "181bb349-e355-4b97-a43f-6333f8e27b81",
   "metadata": {},
   "source": [
    "# interpunction and numbers \n",
    "iteratively load, process and save the text dataframes"
   ]
  },
  {
   "cell_type": "code",
   "execution_count": 26,
   "id": "43e4b72b-391e-4873-9e02-759bfcdf2674",
   "metadata": {},
   "outputs": [],
   "source": [
    "for x in ['data/text_df_1.feather', 'data/text_df_2.feather', 'data/text_df_3.feather']: \n",
    "    df = pd.read_feather(x)\n",
    "\n",
    "    pattern = r'[\\d.,!?;:@#&]+|<[^>]*>|https?://\\S+|[\"\\'\\(\\)_/+\\\\$-]'\n",
    "    \n",
    "    df['Clean_text'] = df['Clean_text'].apply(lambda x: re.sub(pattern, '', x)) # re\n",
    "    df['Clean_text'] = df['Clean_text'].apply(lambda x: re.sub(r'\\s+', ' ', x))\n",
    "\n",
    "    df.to_feather(x)"
   ]
  },
  {
   "cell_type": "markdown",
   "id": "212f621b-4588-4800-8f48-422bb87a2f86",
   "metadata": {},
   "source": [
    "# Show "
   ]
  },
  {
   "cell_type": "markdown",
   "id": "07fce6aa-0f21-4f8a-bd18-680ca4f06964",
   "metadata": {},
   "source": [
    "The semi-clean processing will be used in the `Sentiment` notebook, here just to show for the report (it is not saved) "
   ]
  },
  {
   "cell_type": "code",
   "execution_count": 36,
   "id": "12643943-d1cf-4ffd-b4ca-130978439211",
   "metadata": {},
   "outputs": [],
   "source": [
    "df = df_just_text.sample(1000)"
   ]
  },
  {
   "cell_type": "code",
   "execution_count": 68,
   "id": "a6d1212e-987e-44e3-8d82-3a41b0a2e1f0",
   "metadata": {},
   "outputs": [],
   "source": [
    "pattern = r'[\\d.,!?;:@#&\\*]+|<[^>]*>|https?://\\S+|[\"\\'\\(\\)_/+\\\\$-]'\n",
    "pattern_semiclean = r'|<[^>]*>|https?://\\S+|[\"\\'\\(\\)_/+\\\\$-]'\n"
   ]
  },
  {
   "cell_type": "code",
   "execution_count": 61,
   "id": "becd688a-6a8e-4940-af07-2fefd81ce097",
   "metadata": {},
   "outputs": [],
   "source": [
    "df['Clean_text'] = df['Text'].apply(clean_text)"
   ]
  },
  {
   "cell_type": "code",
   "execution_count": 69,
   "id": "ab7b16fd-d007-462e-850d-3f2665df64a9",
   "metadata": {},
   "outputs": [],
   "source": [
    "df['Clean_text'] = df['Clean_text'].apply(lambda x: re.sub(pattern, '', x)) # re\n",
    "df['Clean_text'] = df['Clean_text'].apply(lambda x: re.sub(r'\\s+', ' ', x))\n",
    "\n",
    "\n",
    "df['Semiclean_text'] = df['Text'].apply(lambda x: re.sub(pattern_semiclean, '', x))\n",
    "df['Semiclean_text'] = df['semiclean_text'].apply(lambda x: re.sub(r'\\s+', ' ', x))\n"
   ]
  },
  {
   "cell_type": "code",
   "execution_count": 63,
   "id": "c9a9ad59-1a3a-4e66-956a-9bf1f1bdd8cd",
   "metadata": {},
   "outputs": [
    {
     "data": {
      "text/plain": [
       "ProductId                                                B000MXTMZO\n",
       "UserId                                               A1VXZJVVLQNX9G\n",
       "Text              If you're undecided between purchasing this mi...\n",
       "Clean_text        be undecided purchase mild variety < href= gp ...\n",
       "semiclean_text    If youre undecided between purchasing this mil...\n",
       "Semiclean_text    If youre undecided between purchasing this mil...\n",
       "Name: 376972, dtype: object"
      ]
     },
     "execution_count": 63,
     "metadata": {},
     "output_type": "execute_result"
    }
   ],
   "source": [
    "df.iloc[93]"
   ]
  },
  {
   "cell_type": "code",
   "execution_count": 73,
   "id": "e3ab2f31-ef5e-4c4c-8563-5ca502c4c346",
   "metadata": {},
   "outputs": [
    {
     "data": {
      "text/plain": [
       "'If you\\'re undecided between purchasing this mild variety and <a href=\"http://www.amazon.com/gp/product/B000JSM178\">Rajah Madras Curry Powder (Hot) - 3.5oz</a> because you don\\'t like your curry *too* hot, I\\'d suggest starting with this one.  It has a nice flavor and more of a kick than expected - whi'"
      ]
     },
     "execution_count": 73,
     "metadata": {},
     "output_type": "execute_result"
    }
   ],
   "source": [
    "df.loc[376972, 'Text'][:300]"
   ]
  },
  {
   "cell_type": "code",
   "execution_count": 74,
   "id": "39df6f48-8150-40b8-bc6d-9e9db0bad64c",
   "metadata": {},
   "outputs": [
    {
     "data": {
      "text/plain": [
       "'If youre undecided between purchasing this mild variety and Rajah Madras Curry Powder Hot 3.5oz because you dont like your curry *too* hot, Id suggest starting with this one. It has a nice flavor and more of a kick than expected which gives me the idea the hot one would be really hot.The cannister l'"
      ]
     },
     "execution_count": 74,
     "metadata": {},
     "output_type": "execute_result"
    }
   ],
   "source": [
    "df.loc[376972, 'Semi_clean_text'][:300]"
   ]
  },
  {
   "cell_type": "code",
   "execution_count": 75,
   "id": "4d48841d-d67f-431c-a959-6e866444f130",
   "metadata": {},
   "outputs": [
    {
     "data": {
      "text/plain": [
       "'be undecided purchase mild variety rajah madras curry powder hot oz nt like curry hot would suggest start one nice flavor kick expect give idea hot one would really hotthe cannister look like short version baking powder shaker hole top take lid be curry keep last empty mccormick bottle shaker top fi'"
      ]
     },
     "execution_count": 75,
     "metadata": {},
     "output_type": "execute_result"
    }
   ],
   "source": [
    "df.loc[376972, 'Clean_text'][:300]"
   ]
  }
 ],
 "metadata": {
  "kernelspec": {
   "display_name": "Python 3 (ipykernel)",
   "language": "python",
   "name": "python3"
  },
  "language_info": {
   "codemirror_mode": {
    "name": "ipython",
    "version": 3
   },
   "file_extension": ".py",
   "mimetype": "text/x-python",
   "name": "python",
   "nbconvert_exporter": "python",
   "pygments_lexer": "ipython3",
   "version": "3.11.4"
  }
 },
 "nbformat": 4,
 "nbformat_minor": 5
}
